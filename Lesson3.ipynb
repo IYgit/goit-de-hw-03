{
  "nbformat": 4,
  "nbformat_minor": 0,
  "metadata": {
    "colab": {
      "provenance": []
    },
    "kernelspec": {
      "name": "python3",
      "display_name": "Python 3"
    },
    "language_info": {
      "name": "python"
    }
  },
  "cells": [
    {
      "cell_type": "code",
      "source": [
        "from google.colab import drive\n",
        "drive.mount('/content/drive')"
      ],
      "metadata": {
        "colab": {
          "base_uri": "https://localhost:8080/"
        },
        "id": "rLX4ZHaZrUVU",
        "outputId": "8dbcd448-e1e6-4f62-e2a8-b9a89a8064f4"
      },
      "execution_count": 2,
      "outputs": [
        {
          "output_type": "stream",
          "name": "stdout",
          "text": [
            "Mounted at /content/drive\n"
          ]
        }
      ]
    },
    {
      "cell_type": "code",
      "source": [
        "from pyspark.sql import SparkSession\n",
        "from pyspark.sql.functions import col, sum"
      ],
      "metadata": {
        "id": "OEkvZb2prbGH"
      },
      "execution_count": 20,
      "outputs": []
    },
    {
      "cell_type": "markdown",
      "source": [
        "**1. Завантаження та читання CSV-файлів як окремий DataFrame.**"
      ],
      "metadata": {
        "id": "r4g3JolGspGf"
      }
    },
    {
      "cell_type": "code",
      "source": [
        "# Створення Spark-сесії\n",
        "spark = SparkSession.builder \\\n",
        "    .appName(\"Data Processing with Spark\") \\\n",
        "    .getOrCreate()\n",
        "\n",
        "user_data_path = '/content/drive/MyDrive/GoIT/DataEngineering/lesson3/users.csv'\n",
        "purchases_data_path = '/content/drive/MyDrive/GoIT/DataEngineering/lesson3/purchases.csv'\n",
        "products_data_path = '/content/drive/MyDrive/GoIT/DataEngineering/lesson3/products.csv'\n",
        "\n",
        "# Завантаження даних\n",
        "users_df = spark.read.csv(user_data_path, header=True, inferSchema=True)\n",
        "purchases_df = spark.read.csv(purchases_data_path, header=True, inferSchema=True)\n",
        "products_df = spark.read.csv(products_data_path, header=True, inferSchema=True)\n"
      ],
      "metadata": {
        "id": "39uLCg6_s1fh"
      },
      "execution_count": 5,
      "outputs": []
    },
    {
      "cell_type": "code",
      "source": [
        "users_df.show(10, truncate=False)"
      ],
      "metadata": {
        "colab": {
          "base_uri": "https://localhost:8080/"
        },
        "id": "CikQ6X8Ltyn2",
        "outputId": "0cb8eb3f-314f-4b4e-acd5-690ba0a3d515"
      },
      "execution_count": 8,
      "outputs": [
        {
          "output_type": "stream",
          "name": "stdout",
          "text": [
            "+-------+-------+---+------------------+\n",
            "|user_id|name   |age|email             |\n",
            "+-------+-------+---+------------------+\n",
            "|1      |User_1 |45 |user1@example.com |\n",
            "|2      |User_2 |48 |user2@example.com |\n",
            "|3      |User_3 |36 |user3@example.com |\n",
            "|4      |User_4 |46 |user4@example.com |\n",
            "|5      |User_5 |29 |user5@example.com |\n",
            "|6      |User_6 |39 |user6@example.com |\n",
            "|7      |User_7 |24 |user7@example.com |\n",
            "|8      |User_8 |44 |user8@example.com |\n",
            "|9      |User_9 |27 |user9@example.com |\n",
            "|10     |User_10|43 |user10@example.com|\n",
            "+-------+-------+---+------------------+\n",
            "only showing top 10 rows\n",
            "\n"
          ]
        }
      ]
    },
    {
      "cell_type": "code",
      "source": [
        "purchases_df.show(10, truncate=False)"
      ],
      "metadata": {
        "colab": {
          "base_uri": "https://localhost:8080/"
        },
        "id": "dxcXAxM4uN9w",
        "outputId": "3afd79c7-94b7-41ec-aafa-6a0fd899e27c"
      },
      "execution_count": 9,
      "outputs": [
        {
          "output_type": "stream",
          "name": "stdout",
          "text": [
            "+-----------+-------+----------+----------+--------+\n",
            "|purchase_id|user_id|product_id|date      |quantity|\n",
            "+-----------+-------+----------+----------+--------+\n",
            "|1          |52     |9         |2022-01-01|1       |\n",
            "|2          |93     |37        |2022-01-02|8       |\n",
            "|3          |15     |33        |2022-01-03|1       |\n",
            "|4          |72     |42        |2022-01-04|9       |\n",
            "|5          |61     |44        |2022-01-05|6       |\n",
            "|6          |21     |24        |2022-01-06|7       |\n",
            "|7          |83     |15        |2022-01-07|7       |\n",
            "|8          |87     |32        |2022-01-08|3       |\n",
            "|9          |75     |32        |2022-01-09|2       |\n",
            "|10         |75     |24        |2022-01-10|9       |\n",
            "+-----------+-------+----------+----------+--------+\n",
            "only showing top 10 rows\n",
            "\n"
          ]
        }
      ]
    },
    {
      "cell_type": "code",
      "source": [
        "products_df.show(10, truncate=False)"
      ],
      "metadata": {
        "colab": {
          "base_uri": "https://localhost:8080/"
        },
        "id": "2WvEANHMuYMB",
        "outputId": "9f91d141-727f-4a3b-c885-2d66188c77bf"
      },
      "execution_count": 10,
      "outputs": [
        {
          "output_type": "stream",
          "name": "stdout",
          "text": [
            "+----------+------------+-----------+-----+\n",
            "|product_id|product_name|category   |price|\n",
            "+----------+------------+-----------+-----+\n",
            "|1         |Product_1   |Beauty     |8.3  |\n",
            "|2         |Product_2   |Home       |8.3  |\n",
            "|3         |Product_3   |Electronics|9.2  |\n",
            "|4         |Product_4   |Electronics|2.6  |\n",
            "|5         |Product_5   |Electronics|9.4  |\n",
            "|6         |Product_6   |Sports     |8.7  |\n",
            "|7         |Product_7   |Beauty     |8.2  |\n",
            "|8         |Product_8   |Sports     |1.0  |\n",
            "|9         |Product_9   |Beauty     |6.0  |\n",
            "|10        |Product_10  |Sports     |5.4  |\n",
            "+----------+------------+-----------+-----+\n",
            "only showing top 10 rows\n",
            "\n"
          ]
        }
      ]
    },
    {
      "cell_type": "markdown",
      "source": [
        "**2. Очистка даних**"
      ],
      "metadata": {
        "id": "7UfgGZRDvHEa"
      }
    },
    {
      "cell_type": "code",
      "source": [
        "users_df = users_df.dropna()\n",
        "purchases_df = purchases_df.dropna()\n",
        "products_df = products_df.dropna()"
      ],
      "metadata": {
        "id": "TwdKOQ2ZvQE2"
      },
      "execution_count": 16,
      "outputs": []
    },
    {
      "cell_type": "code",
      "source": [
        "null_rows_count = users_df.filter(\n",
        "    col(\"user_id\").isNull() |\n",
        "    col(\"name\").isNull() |\n",
        "    col(\"age\").isNull() |\n",
        "    col(\"email\").isNull()\n",
        ").count()\n",
        "\n",
        "print(f\"Кількість рядків із пропущеними значеннями: {null_rows_count}\")"
      ],
      "metadata": {
        "colab": {
          "base_uri": "https://localhost:8080/"
        },
        "id": "WzDZ_zg7vuYY",
        "outputId": "a466266e-53c4-4430-91b4-db23791dea25"
      },
      "execution_count": 17,
      "outputs": [
        {
          "output_type": "stream",
          "name": "stdout",
          "text": [
            "Кількість рядків із пропущеними значеннями: 0\n"
          ]
        }
      ]
    },
    {
      "cell_type": "code",
      "source": [
        "# Фільтруємо рядки, де хоча б одне значення є null\n",
        "null_rows_count_purchases = purchases_df.filter(\n",
        "    col(\"purchase_id\").isNull() |\n",
        "    col(\"user_id\").isNull() |\n",
        "    col(\"product_id\").isNull() |\n",
        "    col(\"date\").isNull() |\n",
        "    col(\"quantity\").isNull()\n",
        ").count()\n",
        "\n",
        "print(f\"Кількість рядків із пропущеними значеннями у purchases_df: {null_rows_count_purchases}\")\n"
      ],
      "metadata": {
        "colab": {
          "base_uri": "https://localhost:8080/"
        },
        "id": "zxdg47stwGEc",
        "outputId": "41609d99-657e-4735-955b-68707c22709b"
      },
      "execution_count": 18,
      "outputs": [
        {
          "output_type": "stream",
          "name": "stdout",
          "text": [
            "Кількість рядків із пропущеними значеннями у purchases_df: 0\n"
          ]
        }
      ]
    },
    {
      "cell_type": "code",
      "source": [
        "# Фільтруємо рядки, де хоча б одне значення є null\n",
        "null_rows_count_products = products_df.filter(\n",
        "    col(\"product_id\").isNull() |\n",
        "    col(\"product_name\").isNull() |\n",
        "    col(\"category\").isNull() |\n",
        "    col(\"price\").isNull()\n",
        ").count()\n",
        "\n",
        "print(f\"Кількість рядків із пропущеними значеннями у products_df: {null_rows_count_products}\")\n"
      ],
      "metadata": {
        "colab": {
          "base_uri": "https://localhost:8080/"
        },
        "id": "dHa5gidJwJX9",
        "outputId": "0b6a1ecb-601a-4afa-f4e0-2c19e3ec5fbc"
      },
      "execution_count": 19,
      "outputs": [
        {
          "output_type": "stream",
          "name": "stdout",
          "text": [
            "Кількість рядків із пропущеними значеннями у products_df: 0\n"
          ]
        }
      ]
    },
    {
      "cell_type": "markdown",
      "source": [
        "**3. Визначення загальної суми покупок за кожною категорією продуктів**"
      ],
      "metadata": {
        "id": "xP2RWKYUwucG"
      }
    },
    {
      "cell_type": "code",
      "source": [
        "# Об'єднання purchases_df і products_df\n",
        "purchases_with_products_df = purchases_df.join(products_df, \"product_id\")\n",
        "\n",
        "# Обчислення суми покупок за категорією\n",
        "category_total_df = purchases_with_products_df \\\n",
        "    .withColumn(\"total_cost\", col(\"quantity\") * col(\"price\")) \\\n",
        "    .groupBy(\"category\") \\\n",
        "    .agg(sum(\"total_cost\").alias(\"total_sales\"))\n",
        "\n",
        "category_total_df.show()\n"
      ],
      "metadata": {
        "colab": {
          "base_uri": "https://localhost:8080/"
        },
        "id": "JwWWjUrBwycS",
        "outputId": "102ef459-72a3-4de0-e6f3-fec4b19db9ce"
      },
      "execution_count": 21,
      "outputs": [
        {
          "output_type": "stream",
          "name": "stdout",
          "text": [
            "+-----------+------------------+\n",
            "|   category|       total_sales|\n",
            "+-----------+------------------+\n",
            "|       Home|1523.4999999999998|\n",
            "|     Sports|1802.4999999999998|\n",
            "|Electronics|1174.7999999999997|\n",
            "|   Clothing|             790.3|\n",
            "|     Beauty| 459.8999999999999|\n",
            "+-----------+------------------+\n",
            "\n"
          ]
        }
      ]
    },
    {
      "cell_type": "markdown",
      "source": [
        "**4. Визначення суми покупок за кожною категорією продуктів для вікової категорії від 18 до 25 включно**"
      ],
      "metadata": {
        "id": "ofbMLKxYyI4f"
      }
    },
    {
      "cell_type": "code",
      "source": [
        "# Фільтрація користувачів за віком\n",
        "filtered_users_df = users_df.filter((col(\"age\") >= 18) & (col(\"age\") <= 25))\n",
        "\n",
        "# Об'єднання з даними покупок\n",
        "purchases_with_users_df = purchases_with_products_df \\\n",
        "    .join(filtered_users_df, \"user_id\")\n",
        "\n",
        "# Сума покупок за категорією\n",
        "age_filtered_category_total_df = purchases_with_users_df \\\n",
        "    .withColumn(\"total_cost\", col(\"quantity\") * col(\"price\")) \\\n",
        "    .groupBy(\"category\") \\\n",
        "    .agg(sum(\"total_cost\").alias(\"total_sales_18_25\"))\n",
        "\n",
        "age_filtered_category_total_df.show()\n"
      ],
      "metadata": {
        "colab": {
          "base_uri": "https://localhost:8080/"
        },
        "id": "UeUF3GnOyT3V",
        "outputId": "dafd5985-9c52-49a4-9a86-16fcd65f9578"
      },
      "execution_count": 22,
      "outputs": [
        {
          "output_type": "stream",
          "name": "stdout",
          "text": [
            "+-----------+------------------+\n",
            "|   category| total_sales_18_25|\n",
            "+-----------+------------------+\n",
            "|       Home|             361.1|\n",
            "|     Sports|310.49999999999994|\n",
            "|Electronics|             249.6|\n",
            "|   Clothing|             245.0|\n",
            "|     Beauty|41.400000000000006|\n",
            "+-----------+------------------+\n",
            "\n"
          ]
        }
      ]
    },
    {
      "cell_type": "markdown",
      "source": [
        "**5. Визначення частки покупок за кожною категорією товарів від сумарних витрат для вікової категорії від 18 до 25 років.**"
      ],
      "metadata": {
        "id": "BT8HeUPEzFox"
      }
    },
    {
      "cell_type": "code",
      "source": [
        "# Загальна сума покупок для вікової категорії 18-25\n",
        "total_sales_18_25 = age_filtered_category_total_df.agg(sum(\"total_sales_18_25\")).collect()[0][0]\n",
        "\n",
        "# Обчислення частки витрат\n",
        "category_percentage_df = age_filtered_category_total_df \\\n",
        "    .withColumn(\"percentage\", (col(\"total_sales_18_25\") / total_sales_18_25) * 100)\n",
        "\n",
        "category_percentage_df.show()\n"
      ],
      "metadata": {
        "colab": {
          "base_uri": "https://localhost:8080/"
        },
        "id": "0h7xONu_zL3b",
        "outputId": "fe6d0de9-8ac0-495e-e58c-8ba4e7fb8440"
      },
      "execution_count": 23,
      "outputs": [
        {
          "output_type": "stream",
          "name": "stdout",
          "text": [
            "+-----------+------------------+------------------+\n",
            "|   category| total_sales_18_25|        percentage|\n",
            "+-----------+------------------+------------------+\n",
            "|       Home|             361.1| 29.90228552500829|\n",
            "|     Sports|310.49999999999994|25.712156343159986|\n",
            "|Electronics|             249.6|20.669095727061944|\n",
            "|   Clothing|             245.0| 20.28817489234846|\n",
            "|     Beauty|41.400000000000006|3.4282875124213326|\n",
            "+-----------+------------------+------------------+\n",
            "\n"
          ]
        }
      ]
    },
    {
      "cell_type": "markdown",
      "source": [
        "**6. Вибер 3 категорій продуктів з найвищим відсотком витрат споживачами віком від 18 до 25 років.**"
      ],
      "metadata": {
        "id": "TiCmX4z62BHQ"
      }
    },
    {
      "cell_type": "code",
      "source": [
        "# Вибір топ-3 категорій за відсотком витрат\n",
        "top_3_categories_df = category_percentage_df \\\n",
        "    .orderBy(col(\"percentage\").desc()) \\\n",
        "    .limit(3)\n",
        "\n",
        "top_3_categories_df.show()\n"
      ],
      "metadata": {
        "colab": {
          "base_uri": "https://localhost:8080/"
        },
        "id": "Hsl_QrrD2MDn",
        "outputId": "32634f06-7822-4a74-fc91-4f89814e5f34"
      },
      "execution_count": 28,
      "outputs": [
        {
          "output_type": "stream",
          "name": "stdout",
          "text": [
            "+-----------+------------------+------------------+\n",
            "|   category| total_sales_18_25|        percentage|\n",
            "+-----------+------------------+------------------+\n",
            "|       Home|             361.1| 29.90228552500829|\n",
            "|     Sports|310.49999999999994|25.712156343159986|\n",
            "|Electronics|             249.6|20.669095727061944|\n",
            "+-----------+------------------+------------------+\n",
            "\n"
          ]
        }
      ]
    }
  ]
}